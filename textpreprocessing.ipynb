{
 "cells": [
  {
   "cell_type": "code",
   "execution_count": 11,
   "metadata": {},
   "outputs": [],
   "source": [
    "import nltk\n",
    "from nltk.stem import PorterStemmer\n",
    "from nltk.corpus import stopwords"
   ]
  },
  {
   "cell_type": "code",
   "execution_count": null,
   "metadata": {},
   "outputs": [],
   "source": []
  },
  {
   "cell_type": "code",
   "execution_count": null,
   "metadata": {},
   "outputs": [],
   "source": []
  },
  {
   "cell_type": "code",
   "execution_count": null,
   "metadata": {},
   "outputs": [],
   "source": []
  },
  {
   "cell_type": "code",
   "execution_count": 3,
   "metadata": {},
   "outputs": [
    {
     "name": "stdout",
     "output_type": "stream",
     "text": [
      "showing info https://raw.githubusercontent.com/nltk/nltk_data/gh-pages/index.xml\n"
     ]
    },
    {
     "data": {
      "text/plain": [
       "True"
      ]
     },
     "execution_count": 3,
     "metadata": {},
     "output_type": "execute_result"
    }
   ],
   "source": [
    "nltk.download()"
   ]
  },
  {
   "cell_type": "code",
   "execution_count": 4,
   "metadata": {},
   "outputs": [],
   "source": [
    "paragraph= \"\"\"\" APJ Abdul kalam came into this world on 15th\n",
    "            October 1931, at a time when India was under British \n",
    "            occupation. He was born to a Tamil Muslim family in \n",
    "            Tamil Nadu. His father was a boat owner while his \n",
    "            mother was a housewife. Furthermore, Kalam had five\n",
    "            siblings and was the youngest of the lot.\n",
    "            In school, Kalam was an average student but\n",
    "            was still hardworking and bright. I think \n",
    "            this certainly is a great motivation for\n",
    "            all the average students out there. Being \n",
    "            average, you must never ever underestimate \n",
    "            yourself and continue doing the hard work.\"\"\""
   ]
  },
  {
   "cell_type": "code",
   "execution_count": 5,
   "metadata": {},
   "outputs": [
    {
     "data": {
      "text/plain": [
       "['\" APJ Abdul kalam came into this world on 15th\\n            October 1931, at a time when India was under British \\n            occupation.',\n",
       " 'He was born to a Tamil Muslim family in \\n            Tamil Nadu.',\n",
       " 'His father was a boat owner while his \\n            mother was a housewife.',\n",
       " 'Furthermore, Kalam had five\\n            siblings and was the youngest of the lot.',\n",
       " 'In school, Kalam was an average student but\\n            was still hardworking and bright.',\n",
       " 'I think \\n            this certainly is a great motivation for\\n            all the average students out there.',\n",
       " 'Being \\n            average, you must never ever underestimate \\n            yourself and continue doing the hard work.']"
      ]
     },
     "execution_count": 5,
     "metadata": {},
     "output_type": "execute_result"
    }
   ],
   "source": [
    "sentences=nltk.sent_tokenize(paragraph)\n",
    "sentences\n",
    "#seperates para into sentences"
   ]
  },
  {
   "cell_type": "code",
   "execution_count": 8,
   "metadata": {},
   "outputs": [
    {
     "data": {
      "text/plain": [
       "['``',\n",
       " 'APJ',\n",
       " 'Abdul',\n",
       " 'kalam',\n",
       " 'came',\n",
       " 'into',\n",
       " 'this',\n",
       " 'world',\n",
       " 'on',\n",
       " '15th',\n",
       " 'October',\n",
       " '1931',\n",
       " ',',\n",
       " 'at',\n",
       " 'a',\n",
       " 'time',\n",
       " 'when',\n",
       " 'India',\n",
       " 'was',\n",
       " 'under',\n",
       " 'British',\n",
       " 'occupation',\n",
       " '.',\n",
       " 'He',\n",
       " 'was',\n",
       " 'born',\n",
       " 'to',\n",
       " 'a',\n",
       " 'Tamil',\n",
       " 'Muslim',\n",
       " 'family',\n",
       " 'in',\n",
       " 'Tamil',\n",
       " 'Nadu',\n",
       " '.',\n",
       " 'His',\n",
       " 'father',\n",
       " 'was',\n",
       " 'a',\n",
       " 'boat',\n",
       " 'owner',\n",
       " 'while',\n",
       " 'his',\n",
       " 'mother',\n",
       " 'was',\n",
       " 'a',\n",
       " 'housewife',\n",
       " '.',\n",
       " 'Furthermore',\n",
       " ',',\n",
       " 'Kalam',\n",
       " 'had',\n",
       " 'five',\n",
       " 'siblings',\n",
       " 'and',\n",
       " 'was',\n",
       " 'the',\n",
       " 'youngest',\n",
       " 'of',\n",
       " 'the',\n",
       " 'lot',\n",
       " '.',\n",
       " 'In',\n",
       " 'school',\n",
       " ',',\n",
       " 'Kalam',\n",
       " 'was',\n",
       " 'an',\n",
       " 'average',\n",
       " 'student',\n",
       " 'but',\n",
       " 'was',\n",
       " 'still',\n",
       " 'hardworking',\n",
       " 'and',\n",
       " 'bright',\n",
       " '.',\n",
       " 'I',\n",
       " 'think',\n",
       " 'this',\n",
       " 'certainly',\n",
       " 'is',\n",
       " 'a',\n",
       " 'great',\n",
       " 'motivation',\n",
       " 'for',\n",
       " 'all',\n",
       " 'the',\n",
       " 'average',\n",
       " 'students',\n",
       " 'out',\n",
       " 'there',\n",
       " '.',\n",
       " 'Being',\n",
       " 'average',\n",
       " ',',\n",
       " 'you',\n",
       " 'must',\n",
       " 'never',\n",
       " 'ever',\n",
       " 'underestimate',\n",
       " 'yourself',\n",
       " 'and',\n",
       " 'continue',\n",
       " 'doing',\n",
       " 'the',\n",
       " 'hard',\n",
       " 'work',\n",
       " '.']"
      ]
     },
     "execution_count": 8,
     "metadata": {},
     "output_type": "execute_result"
    }
   ],
   "source": [
    "words=nltk.word_tokenize(paragraph)\n",
    "words\n",
    "#seperate paragraph into words"
   ]
  },
  {
   "cell_type": "code",
   "execution_count": 12,
   "metadata": {},
   "outputs": [],
   "source": [
    "stemmer=PorterStemmer()"
   ]
  },
  {
   "cell_type": "code",
   "execution_count": 17,
   "metadata": {},
   "outputs": [
    {
     "name": "stdout",
     "output_type": "stream",
     "text": [
      "##### ['``', 'apjabdulkalamcameworld15thoctob1931', ',', 'timeindiabritishoccup', '.']\n",
      "##### ['heborntamilmuslimfamilitamilnadu', '.']\n",
      "##### ['hifatherboatownermotherhousewif', '.']\n",
      "##### ['furthermor', ',', 'kalamfivesiblyoungestlot', '.']\n",
      "##### ['inschool', ',', 'kalamaveragstudentstillhardworkbright', '.']\n",
      "##### ['ithinkcertainligreatmotivaveragstud', '.']\n",
      "##### ['beaverag', ',', 'mustnevereverunderestimcontinuhardwork', '.']\n"
     ]
    }
   ],
   "source": [
    "for i in range(len(sentences)):\n",
    "    words=nltk.word_tokenize(sentences[i])\n",
    "    words=[stemmer.stem(word) for word in words if word not in set(stopwords.words('english'))]\n",
    "    print(\"#####\",words)\n",
    "    sentences[i]=' '.join(words)"
   ]
  },
  {
   "cell_type": "code",
   "execution_count": null,
   "metadata": {},
   "outputs": [],
   "source": []
  },
  {
   "cell_type": "code",
   "execution_count": null,
   "metadata": {},
   "outputs": [],
   "source": []
  },
  {
   "cell_type": "code",
   "execution_count": 18,
   "metadata": {},
   "outputs": [
    {
     "data": {
      "text/plain": [
       "['`` apjabdulkalamcameworld15thoctob1931 , timeindiabritishoccup .',\n",
       " 'heborntamilmuslimfamilitamilnadu .',\n",
       " 'hifatherboatownermotherhousewif .',\n",
       " 'furthermor , kalamfivesiblyoungestlot .',\n",
       " 'inschool , kalamaveragstudentstillhardworkbright .',\n",
       " 'ithinkcertainligreatmotivaveragstud .',\n",
       " 'beaverag , mustnevereverunderestimcontinuhardwork .']"
      ]
     },
     "execution_count": 18,
     "metadata": {},
     "output_type": "execute_result"
    }
   ],
   "source": [
    "sentences"
   ]
  },
  {
   "cell_type": "code",
   "execution_count": null,
   "metadata": {},
   "outputs": [],
   "source": []
  },
  {
   "cell_type": "code",
   "execution_count": null,
   "metadata": {},
   "outputs": [],
   "source": []
  },
  {
   "cell_type": "code",
   "execution_count": null,
   "metadata": {},
   "outputs": [],
   "source": []
  },
  {
   "cell_type": "code",
   "execution_count": null,
   "metadata": {},
   "outputs": [],
   "source": []
  },
  {
   "cell_type": "code",
   "execution_count": null,
   "metadata": {},
   "outputs": [],
   "source": []
  },
  {
   "cell_type": "code",
   "execution_count": null,
   "metadata": {},
   "outputs": [],
   "source": []
  }
 ],
 "metadata": {
  "kernelspec": {
   "display_name": "Python 3",
   "language": "python",
   "name": "python3"
  },
  "language_info": {
   "codemirror_mode": {
    "name": "ipython",
    "version": 3
   },
   "file_extension": ".py",
   "mimetype": "text/x-python",
   "name": "python",
   "nbconvert_exporter": "python",
   "pygments_lexer": "ipython3",
   "version": "3.8.3"
  }
 },
 "nbformat": 4,
 "nbformat_minor": 4
}
